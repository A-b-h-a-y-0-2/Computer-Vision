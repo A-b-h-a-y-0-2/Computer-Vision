{
  "nbformat": 4,
  "nbformat_minor": 0,
  "metadata": {
    "colab": {
      "provenance": []
    },
    "kernelspec": {
      "name": "python3",
      "display_name": "Python 3"
    },
    "language_info": {
      "name": "python"
    }
  },
  "cells": [
    {
      "cell_type": "markdown",
      "source": [
        "##Importing Libraries"
      ],
      "metadata": {
        "id": "QWTX1INRI8i7"
      }
    },
    {
      "cell_type": "code",
      "execution_count": null,
      "metadata": {
        "id": "H2CLWM3qIp-z"
      },
      "outputs": [],
      "source": [
        "import torch\n",
        "import torch.nn as nn\n",
        "import math"
      ]
    },
    {
      "cell_type": "markdown",
      "source": [
        "##Input Embeddings"
      ],
      "metadata": {
        "id": "-XKxIClLIx6l"
      }
    },
    {
      "cell_type": "code",
      "source": [
        "class InputEmbeddings(nn.Module):\n",
        "  def __init__(self,d_model,vocab_size):\n",
        "    super().__init__()\n",
        "    self.d_model = d_model\n",
        "    self.vocab_size = vocab_size\n",
        "    self.embedding = nn.Embedding(vocab_size,d_model)\n",
        "\n",
        "  def forward(self,x):\n",
        "    return self.embedding(x) * math.sqrt(self.d_model)"
      ],
      "metadata": {
        "id": "-R-Oec3DIw4D"
      },
      "execution_count": null,
      "outputs": []
    },
    {
      "cell_type": "markdown",
      "source": [
        "##Positional Encoding\n"
      ],
      "metadata": {
        "id": "wLT9JewEYY8B"
      }
    },
    {
      "cell_type": "code",
      "source": [
        "class PositionalEncoding(nn.Module):\n",
        "\n",
        "  def __init__(self,d_model,seq_length,dropout):\n",
        "    super().__init__()\n",
        "    self.d_model = d_model\n",
        "    self.seq_length = seq_length\n",
        "    self.dropout = dropout\n",
        "\n",
        "    pe = torch.zeros(seq_length ,d_model)\n",
        "\n",
        "    position = torch.arange(0,seq_length).unsqueeze(1)\n",
        "    div_term = torch.exp(torch.arange(0,d_model,2).float() * (-math.log(10000.0) / d_model))\n",
        "\n",
        "    pe[ : , 0::2] = torch.sin(position * div_term)\n",
        "    pe[ : , 1::2] = torch.cos(position * div_term)\n",
        "\n",
        "    pe = pe.unsqueeze(0)\n",
        "\n",
        "    self.register_buffer('pe',pe)\n",
        "\n",
        "  def forward(self,x):\n",
        "    x = x+ (self.pe[ : , :x.shape[1], : ]).requires_grad_(False)\n",
        "    return self.dropout(x)\n"
      ],
      "metadata": {
        "id": "xhSv1gRXObHR"
      },
      "execution_count": null,
      "outputs": []
    },
    {
      "cell_type": "markdown",
      "source": [
        "##LayerNormalization"
      ],
      "metadata": {
        "id": "CFREhElXkNff"
      }
    },
    {
      "cell_type": "code",
      "source": [
        "class LayerNormalization(nn.module):\n",
        "\n",
        "  def __init__(self, eps = 10**-6):\n",
        "    super().__init__()\n",
        "    self.eps = eps\n",
        "    self.alpha = nn.Parameter(torch.ones(1))\n",
        "    self.beta = nn.Parameter(torch.zeros(1))\n",
        "\n",
        "  def forward(self,x):\n",
        "    mean = x.mean(dim = -1,keepdim= True )\n",
        "    std = x.std(dim = -1,keepdim = True)\n",
        "    return (self.alpha* (x-mean))/((self.std + self.eps)+self.bias)\n"
      ],
      "metadata": {
        "id": "l0-IF3OvkP1J"
      },
      "execution_count": null,
      "outputs": []
    },
    {
      "cell_type": "markdown",
      "source": [
        "##Feed Forward\n"
      ],
      "metadata": {
        "id": "Tjpa2nPvpb8S"
      }
    },
    {
      "cell_type": "code",
      "source": [
        "class FeedForward(nn.module):\n",
        "\n",
        "  def __init__(self,d_model,d_ff,dropout):\n",
        "    super().__init__()\n",
        "    self.linear1 = nn.Linear(d_model,d_ff)\n",
        "    self.linear2 = nn.Linear(d_ff,d_model)\n",
        "    self.dropout = dropout\n",
        "\n",
        "  def forward(self,x):\n",
        "    return (self.linear2(self.dropout(torch.ReLU(self.linear1(x)))))"
      ],
      "metadata": {
        "id": "BPs1cnH7pe1a"
      },
      "execution_count": null,
      "outputs": []
    },
    {
      "cell_type": "markdown",
      "source": [
        "##Multi-Headed Attention\n"
      ],
      "metadata": {
        "id": "rmkf9Ndsk6Gq"
      }
    },
    {
      "cell_type": "code",
      "source": [
        "class MultiHeadAttention(nn.Module):\n",
        "  def __init__(self,d_model,h,dropout):\n",
        "    super().__init__()\n",
        "    self.d_model = d_model\n",
        "    self.h = h\n",
        "    assert d_model%h ==0 ,\"d_model is not divisible by h\"\n",
        "    self.d_k = d_model//h\n",
        "    self.dropout = dropout\n",
        "    self.w_q = nn.Linear(d_model,d_model)\n",
        "    self.w_k = nn.Linear(d_model,d_model)\n",
        "    self.w_v = nn.Linear(d_model,d_model)\n",
        "    self.w_o = nn.Linear(d_model,d_model)\n",
        "\n",
        "  @staticmethod\n",
        "  def attention(query, key, value, mask,dropout):\n",
        "    d_k = query.shape[-1]\n",
        "\n",
        "    attention_scores = (query @ key.transpose(-2,-1))/math.sqrt(d_k)\n",
        "    attention_scores = attention_scores.softmax(dim = 1)\n",
        "    if mask is not None:\n",
        "      attention_scores.masked_fill_(mask == 0,-1e9)\n",
        "    if dropout is not None:\n",
        "      attention_scores = dropout(attention_scores)\n",
        "\n",
        "    return (attention_scores @ value), attention_scores\n",
        "\n",
        "  def forward(self,q,k,v,mask):\n",
        "    query = self.w_q(q)\n",
        "    key   = self.w_k(k)\n",
        "    value = self.w_v(v)\n",
        "\n",
        "    query = query.view(query.shape[0],query.shape[1],self.h,self.d_k).transpose(1,2)\n",
        "    key   = key.view(key.shape[0],key.shape[1],self.h,self.d_k).transpose(1,2)\n",
        "    value = value.view(value.shape[0],value.shape[1],self.h,self,self.d_k).transpose(1,2)\n",
        "\n",
        "    x , self.attention_scores = MultiHeadAttention.attention(query,key,value,mask,self.dropout)\n",
        "    x = x.transpose(1,2).contiguous().view(x.shape[0],-1,self.d_k *self.h)\n",
        "\n",
        "    return self.w_o(x)"
      ],
      "metadata": {
        "id": "KzRm8ca8k9bO"
      },
      "execution_count": null,
      "outputs": []
    },
    {
      "cell_type": "markdown",
      "source": [
        "##Residual Connection"
      ],
      "metadata": {
        "id": "TCOqeKs5qQ9e"
      }
    },
    {
      "cell_type": "code",
      "source": [
        "class ResidualConnection(nn.module):\n",
        "\n",
        "  def __init__(self,dropout):\n",
        "    super.__init__()\n",
        "    self.dropout = dropout\n",
        "    self.norm = LayerNormalization()\n",
        "\n",
        "  def forward(self,x,sublayer):\n",
        "    return x+ self.dropout(sublayer(self.norm(x)))\n"
      ],
      "metadata": {
        "id": "kvUYMTpOxPBk"
      },
      "execution_count": null,
      "outputs": []
    },
    {
      "cell_type": "markdown",
      "source": [
        "##Encoder Block"
      ],
      "metadata": {
        "id": "t8ZWMPrq8FDS"
      }
    },
    {
      "cell_type": "code",
      "source": [
        "class EncoderBlock(nn.module):\n",
        "  def __init__(self,self_attention_block:MultiHeadAttention,feed_forward_network:FeedForward,dropout):\n",
        "    super().__init__()\n",
        "    self.feed_forward_network = feed_forward_network\n",
        "    self.self_attention_block = self_attention_block\n",
        "    self.ResidualConnection = nn.ModuleList([ResidualConnection(dropout) for _ in range(2) ])\n",
        "\n",
        "  def forward(self, x , src_mask):\n",
        "    x = self.ResidualConnection[0](x,lambda x: self.self_attention_block(x,x,x,src_mask))\n",
        "    x = self.ResidualConnection[1](x,lambda x: self.feed_forward_network)\n",
        "    return x"
      ],
      "metadata": {
        "id": "OUilr7308Gd1"
      },
      "execution_count": null,
      "outputs": []
    },
    {
      "cell_type": "markdown",
      "source": [
        "##Encoder"
      ],
      "metadata": {
        "id": "I9uuGIRWA7vm"
      }
    },
    {
      "cell_type": "code",
      "source": [
        "class Encoder(nn.module):\n",
        "  def __init__(self,layers:nn.ModuleList):\n",
        "    super().__init__()\n",
        "    self.layers = layers\n",
        "    self.norm = LayerNormalization()\n",
        "\n",
        "  def forward(self,x,mask):\n",
        "    for layer in self.layers:\n",
        "      x = layer(x,mask)\n",
        "    return self.norm(x)\n"
      ],
      "metadata": {
        "id": "zttj3hDBA9Ai"
      },
      "execution_count": null,
      "outputs": []
    },
    {
      "cell_type": "markdown",
      "source": [
        "##Decoder Block"
      ],
      "metadata": {
        "id": "6gpWjDaYWoRz"
      }
    },
    {
      "cell_type": "code",
      "source": [
        "class DecoderBlock(nn.module):\n",
        "  def __init__(self,self_attention_block: MultiHeadAttention,cross_attention_block:MultiHeadAttention,feed_forward_network:FeedForward,dropout):\n",
        "    super().__init__()\n",
        "    self.self_attention_block = self_attention_block\n",
        "    self.cross_attention_block = cross_attention_block\n",
        "    self.feed_forward_network = feed_forward_network\n",
        "    self.ResidualConnection = nn.ModuleList([ResidualConnection(dropout) for _ in range(3)])\n",
        "\n",
        "  def forward(self,x,encoder_output,src_mask,tgt_mask):\n",
        "    x = self.ResidualConnection[0](x, lambda x: self.self_attention_block(x,x,x,tgt_mask))\n",
        "    x = self.ResidualConnection[1](x, lambda x: self.cross_attention_block(x,encoder_output,encoder_output,src_mask))\n",
        "    x = self.ResidualConnection[2](x,self.feed_forward_network)\n",
        "    return x"
      ],
      "metadata": {
        "id": "rcDJAnedWr6g"
      },
      "execution_count": null,
      "outputs": []
    },
    {
      "cell_type": "markdown",
      "source": [
        "##Decoder"
      ],
      "metadata": {
        "id": "MVd-ENvIYrHa"
      }
    },
    {
      "cell_type": "code",
      "source": [
        "class Decoder(nn.module):\n",
        "  def __init__(self,layers:nn.ModuleList):\n",
        "    super().__init__()\n",
        "    self.layers = layers\n",
        "    self.norm = LayerNormalization()\n",
        "  def forward(self,x,src_mask,tgt_mask):\n",
        "    for layer in self.layers:\n",
        "      x = layer(x,src_mask,tgt_mask)\n",
        "    return self.norm(x)"
      ],
      "metadata": {
        "id": "AvC_XllrYuec"
      },
      "execution_count": null,
      "outputs": []
    },
    {
      "cell_type": "markdown",
      "source": [
        "##Projection Layer"
      ],
      "metadata": {
        "id": "TTG-MHQKb3k1"
      }
    },
    {
      "cell_type": "code",
      "source": [
        "class ProjectionLayer(nn.module):\n",
        "  def __init__(self,d_model,vocab_size):\n",
        "    super().__init__()\n",
        "    self.proj = nn.Linear(d_model,vocab_size)\n",
        "\n",
        "  def forward(self,x):\n",
        "    return torch.log_softmax(self.proj(x),dim = -1)"
      ],
      "metadata": {
        "id": "93pDHgf4ctlx"
      },
      "execution_count": null,
      "outputs": []
    },
    {
      "cell_type": "markdown",
      "source": [
        "##Transformer"
      ],
      "metadata": {
        "id": "3EDzwgAScvEk"
      }
    },
    {
      "cell_type": "code",
      "source": [
        "class Transformer(nn.module):\n",
        "  def __init__(self,encoder,decoder,src_embed: InputEmbeddings,tgt_embed:InputEmbeddings,src_pos: PositionalEncoding, tgt_pos: PositionalEncoding,projection :ProjectionLayer):\n",
        "    super().__init__()\n",
        "    self.encoder = encoder\n",
        "    self.decoder = decoder\n",
        "    self.src_embed = src_embed\n",
        "    self.tgt_embed = tgt_embed\n",
        "    self.src_pos = src_pos\n",
        "    self.tgt_pos = tgt_pos\n",
        "    self.projection = projection\n",
        "\n",
        "  def encode(self,src,src_mask):\n",
        "    src = self.src_embed(src)\n",
        "    src = self.src_pos(src)\n",
        "    return self.encoder(src,src_mask)\n",
        "\n",
        "  def decode(self,encoder_output,tgt,src_mask,tgt_mask):\n",
        "    tgt = self.tgt_embed(tgt)\n",
        "    tgt = self.tgt_pos(tgt)\n",
        "    return self.decoder(tgt,encoder_output,src_mask,tgt_mask)\n",
        "\n",
        "  def project(self,x):\n",
        "    return self.projection(x)"
      ],
      "metadata": {
        "id": "Dla9tPGpc4x3"
      },
      "execution_count": null,
      "outputs": []
    },
    {
      "cell_type": "markdown",
      "source": [
        "##Transformer Build"
      ],
      "metadata": {
        "id": "350HzQ6Gy3yz"
      }
    },
    {
      "cell_type": "code",
      "source": [
        "def build_transformer(src_vocab_size,tgt_vocab_size,src_seq_len,tgt_seq_len,d_model,N,h,dropout,d_ff):\n",
        "  src_embed = InputEmbeddings(d_model,src_vocab_size)\n",
        "  tgt_embed = InputEmbeddings(d_model,tgt_vocab_size)\n",
        "\n",
        "  src_pos = PositionalEncoding(d_model,src_seq_len,dropout)\n",
        "  tgt_pos = PositionalEncoding(d_model,tgt_seq_len,dropout)\n",
        "\n",
        "  encoder_list = []\n",
        "  decoder_list = []\n",
        "\n",
        "  for _ in range(N):\n",
        "    encoder_self_attention = MultiHeadAttention(d_model,h,dropout)\n",
        "    encoder_feed_forward = FeedForward(d_model,d_ff,dropout)\n",
        "    encoder_block_out = EncoderBlock(encoder_self_attention,encoder_feed_forward,dropout)\n",
        "\n",
        "    encoder_list.append(encoder_block_out)\n",
        "\n",
        "  for _ in range(N):\n",
        "    decoder_self_attention = MultiHeadAttention(d_model,h,dropout)\n",
        "    decoder_cross_attention = MultiHeadAttention(d_model,h,dropout)\n",
        "    decoder_feed_forward = FeedForward(d_model,d_ff,dropout)\n",
        "    decoder_block_out = DecoderBlock(encoder_self_attention,decoder_cross_attention,encoder_feed_forward,dropout)\n",
        "    decoder_list.append(decoder_block_out)\n",
        "\n",
        "  encoded = Encoder(d_model,nn.ModuleList(encoder_list))\n",
        "  decoded = Decoder(d_model,nn.ModuleList(decoder_list))\n",
        "\n",
        "  projection_layer = ProjectionLayer(d_model,tgt_vocab_size)\n",
        "  transformer = Transformer(encoded,decoded,src_embed,tgt_embed,src_pos,tgt_pos,projection_layer)\n",
        "\n",
        "  for p in transformer.Parameter():\n",
        "    if p.dim>1:\n",
        "      nn.init.xavier_uniform_(p)\n",
        "\n",
        "  return transformer"
      ],
      "metadata": {
        "id": "_vFBtd9sy6XY"
      },
      "execution_count": null,
      "outputs": []
    }
  ]
}