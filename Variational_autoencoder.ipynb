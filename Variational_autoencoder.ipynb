{
  "nbformat": 4,
  "nbformat_minor": 0,
  "metadata": {
    "colab": {
      "provenance": [],
      "authorship_tag": "ABX9TyNcZueB/+I83Sg6S+02ok5e",
      "include_colab_link": true
    },
    "kernelspec": {
      "name": "python3",
      "display_name": "Python 3"
    },
    "language_info": {
      "name": "python"
    }
  },
  "cells": [
    {
      "cell_type": "markdown",
      "metadata": {
        "id": "view-in-github",
        "colab_type": "text"
      },
      "source": [
        "<a href=\"https://colab.research.google.com/github/A-b-h-a-y-0-2/Computer-Vision/blob/main/Variational_autoencoder.ipynb\" target=\"_parent\"><img src=\"https://colab.research.google.com/assets/colab-badge.svg\" alt=\"Open In Colab\"/></a>"
      ]
    },
    {
      "cell_type": "markdown",
      "source": [
        "#         Pipeline\n",
        "##Input image-->Hidden dim-->mean,std -->Parameterization trick-->Decoder-->Output Img\n"
      ],
      "metadata": {
        "id": "81NGkE0bSx2M"
      }
    },
    {
      "cell_type": "markdown",
      "source": [
        "#Imports\n"
      ],
      "metadata": {
        "id": "64DJ3aFxTPYi"
      }
    },
    {
      "cell_type": "code",
      "source": [
        "import torch\n",
        "import torch.nn as nn\n",
        "import torch.nn.functional as F"
      ],
      "metadata": {
        "id": "m6tYDFLATVYg"
      },
      "execution_count": 47,
      "outputs": []
    },
    {
      "cell_type": "markdown",
      "source": [
        "#Encoding class"
      ],
      "metadata": {
        "id": "qaLSIOAUTb8L"
      }
    },
    {
      "cell_type": "code",
      "source": [
        "class Variational_Autoencoder(nn.Module):\n",
        "  def __init__(self,input_dim,hidden_dim=200,z_dim=20):\n",
        "    super().__init__()\n",
        "    #encoder\n",
        "    self.img_2hid = nn.Linear(input_dim,hidden_dim)\n",
        "    self.hid_2mu = nn.Linear(hidden_dim,z_dim)\n",
        "    self.hid_2std = nn.Linear(hidden_dim,z_dim)\n",
        "    #decoder\n",
        "    self.z_2hid = nn.Linear(z_dim,hidden_dim)\n",
        "    self.hid_2img = nn.Linear(hidden_dim,input_dim)\n",
        "\n",
        "\n",
        "  def encoder(self,x):\n",
        "    h = F.relu(self.img_2hid(x))\n",
        "    mu ,sigma = self.hid_2mu(h),self.hid_2std(h)\n",
        "    return mu,sigma\n",
        "\n",
        "  def decoder(self,z):\n",
        "    h = F.relu(self.z_2hid(z))\n",
        "    return torch.sigmoid(self.hid_2img(h))\n",
        "\n",
        "  def forward(self,x):\n",
        "    mu ,sigma = self.encoder(x)\n",
        "    epsilon = torch.rand_like(sigma)\n",
        "    reparametarized_z = mu + sigma*epsilon\n",
        "    reconstructed_x = self.decoder(reparametarized_z)\n",
        "    return reconstructed_x,mu,sigma"
      ],
      "metadata": {
        "id": "r78_iJtATbM-"
      },
      "execution_count": 48,
      "outputs": []
    },
    {
      "cell_type": "code",
      "source": [
        "x = torch.randn(4,28*28)\n",
        "VAE = Variational_Autoencoder(input_dim=784)\n",
        "reconstructed_x,mu,sigma = VAE(x)\n",
        "print(reconstructed_x.shape)\n",
        "print(mu.shape)\n",
        "print(sigma.shape)\n",
        "\n"
      ],
      "metadata": {
        "colab": {
          "base_uri": "https://localhost:8080/"
        },
        "id": "N859oB5CWmKh",
        "outputId": "2f15b743-561d-46d4-d16e-a9b0a7ccf183"
      },
      "execution_count": 49,
      "outputs": [
        {
          "output_type": "stream",
          "name": "stdout",
          "text": [
            "torch.Size([4, 784])\n",
            "torch.Size([4, 20])\n",
            "torch.Size([4, 20])\n"
          ]
        }
      ]
    },
    {
      "cell_type": "code",
      "source": [
        "import torch\n",
        "import torchvision.datasets as datasets\n",
        "from tqdm import tqdm\n",
        "from torch import nn, optim\n",
        "from torchvision import transforms\n",
        "from torchvision.utils import save_image\n",
        "from torch.utils.data import DataLoader\n"
      ],
      "metadata": {
        "id": "HrtAA7dpdQZq"
      },
      "execution_count": 50,
      "outputs": []
    },
    {
      "cell_type": "code",
      "source": [
        "Device =torch.device('cuda' if torch.cuda.is_available else 'cpu')\n",
        "batch_size = 32\n",
        "input_dim = 784\n",
        "hid_dim = 200\n",
        "z_dim =20\n",
        "num_epochs = 10\n",
        "lr = 3e-4"
      ],
      "metadata": {
        "id": "WW37IBWsdU-Q"
      },
      "execution_count": 55,
      "outputs": []
    },
    {
      "cell_type": "code",
      "source": [
        "train_dataset = datasets.MNIST('/content/datasets',train=True,transform = transforms.ToTensor(),download = True)\n",
        "train_loader = DataLoader(train_dataset,batch_size = batch_size,shuffle=True)"
      ],
      "metadata": {
        "id": "_IodkU9rduZ6"
      },
      "execution_count": 56,
      "outputs": []
    },
    {
      "cell_type": "code",
      "source": [
        "model = Variational_Autoencoder(input_dim,hid_dim,z_dim)\n",
        "optimizer = optim.Adam(model.parameters(),lr = lr)\n",
        "loss_fn = nn.BCELoss(reduction = 'sum')"
      ],
      "metadata": {
        "id": "-VzjVmhgeM4m"
      },
      "execution_count": 57,
      "outputs": []
    },
    {
      "cell_type": "code",
      "source": [
        "for epoch in range(num_epochs):\n",
        "  for i,(x,_) in enumerate(tqdm(train_loader)):\n",
        "    x = x.view(x.shape[0],-1)\n",
        "    x_reconstructed , mu , sigma = model(x)\n",
        "    x_reconstructed = torch.sigmoid(x_reconstructed)\n",
        "\n",
        "    reconstruction_loss = loss_fn(x_reconstructed, x)\n",
        "\n",
        "\n",
        "    kl_div = -0.5 * torch.sum(1 + torch.log(sigma.pow(2)) - mu.pow(2) - sigma.pow(2))\n",
        "\n",
        "\n",
        "    loss = reconstruction_loss + kl_div\n",
        "    optimizer.zero_grad()\n",
        "    loss.backward()\n",
        "    optimizer.step()\n"
      ],
      "metadata": {
        "colab": {
          "base_uri": "https://localhost:8080/"
        },
        "id": "2o5Od2Wve0rU",
        "outputId": "55d9d8cd-30db-457e-a956-cf483d03a425"
      },
      "execution_count": 58,
      "outputs": [
        {
          "output_type": "stream",
          "name": "stderr",
          "text": [
            "100%|██████████| 1875/1875 [00:24<00:00, 75.19it/s]\n",
            "100%|██████████| 1875/1875 [00:25<00:00, 73.89it/s]\n",
            "100%|██████████| 1875/1875 [00:25<00:00, 74.54it/s]\n",
            "100%|██████████| 1875/1875 [00:24<00:00, 75.39it/s]\n",
            "100%|██████████| 1875/1875 [00:25<00:00, 74.38it/s]\n",
            "100%|██████████| 1875/1875 [00:25<00:00, 73.69it/s]\n",
            "100%|██████████| 1875/1875 [00:25<00:00, 72.44it/s]\n",
            "100%|██████████| 1875/1875 [00:25<00:00, 72.20it/s]\n",
            "100%|██████████| 1875/1875 [00:27<00:00, 68.51it/s]\n",
            "100%|██████████| 1875/1875 [00:26<00:00, 71.23it/s]\n"
          ]
        }
      ]
    },
    {
      "cell_type": "code",
      "source": [
        "def inference(digit,num_examples=1):\n",
        "  images = []\n",
        "  idx = 0\n",
        "  for x, y in train_dataset:\n",
        "    if y==idx:\n",
        "      images.append(x)\n",
        "      idx +=1\n",
        "    if idx == 10:\n",
        "      break\n",
        "\n",
        "  encoding_digit = []\n",
        "  for d in range(10):\n",
        "    with torch.no_grad():\n",
        "      mu, sigma = model.encoder(images[d].view(1,784))\n",
        "    encoding_digit.append((mu,sigma))\n",
        "    for example in range(num_examples):\n",
        "      epsilon = torch.rand_like(sigma)\n",
        "      z = mu + sigma*epsilon\n",
        "      out = model.decoder(z)\n",
        "      out = out.view(-1,1,28,28)\n",
        "      save_image(out,f'generated_{digit}_ex{example}.png')\n",
        "for idx in range(10):\n",
        "  inference(idx, num_examples=1)"
      ],
      "metadata": {
        "id": "oMlNzq2CkHkD"
      },
      "execution_count": 59,
      "outputs": []
    },
    {
      "cell_type": "code",
      "source": [],
      "metadata": {
        "id": "c3DoIsZum8kH"
      },
      "execution_count": 59,
      "outputs": []
    }
  ]
}