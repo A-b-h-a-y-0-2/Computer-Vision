{
  "nbformat": 4,
  "nbformat_minor": 0,
  "metadata": {
    "colab": {
      "provenance": []
    },
    "kernelspec": {
      "name": "python3",
      "display_name": "Python 3"
    },
    "language_info": {
      "name": "python"
    }
  },
  "cells": [
    {
      "cell_type": "markdown",
      "source": [
        "##Library Imports"
      ],
      "metadata": {
        "id": "88MZbn0S2cBs"
      }
    },
    {
      "cell_type": "code",
      "execution_count": 49,
      "metadata": {
        "id": "hDsu5yss2AZr"
      },
      "outputs": [],
      "source": [
        "import torch\n",
        "import torch.nn as nn\n",
        "import torchvision.transforms.functional as TF"
      ]
    },
    {
      "cell_type": "markdown",
      "source": [
        "##Double Convolutions"
      ],
      "metadata": {
        "id": "5Px1kcun2hkP"
      }
    },
    {
      "cell_type": "code",
      "source": [
        "class DoubleConv2D(nn.Module):\n",
        "  def __init__(self, in_channels, out_channels):\n",
        "    super().__init__()\n",
        "    self.Conv =nn.Sequential(\n",
        "    nn.Conv2d(in_channels, out_channels, 3, 1, 1, bias = False),\n",
        "    nn.BatchNorm2d(out_channels),\n",
        "    nn.ReLU(inplace = True),\n",
        "    nn.Conv2d(out_channels, out_channels, 3, 1, 1, bias = False),\n",
        "    nn.BatchNorm2d(out_channels),\n",
        "    nn.ReLU(inplace = True)\n",
        "    )\n",
        "\n",
        "  def forward(self, x):\n",
        "    return self.Conv(x)"
      ],
      "metadata": {
        "id": "twZvxr452bi0"
      },
      "execution_count": 50,
      "outputs": []
    },
    {
      "cell_type": "markdown",
      "source": [
        "##UNET"
      ],
      "metadata": {
        "id": "I8gsKbwp3_yN"
      }
    },
    {
      "cell_type": "code",
      "source": [
        "class UNET(nn.Module):\n",
        "  def __init__(self,in_channels=3 ,out_channels=1 ,features = [64,128,256,512] ):\n",
        "    super().__init__()\n",
        "    self.ups = nn.ModuleList()\n",
        "    self.downs = nn.ModuleList()\n",
        "    self.pool = nn.MaxPool2d(kernel_size=2, stride= 2)\n",
        "\n",
        "    ##Down sampling of the layers\n",
        "    for feature in features:\n",
        "      self.downs.append(DoubleConv2D(in_channels,feature))\n",
        "      in_channels = feature\n",
        "    ##Up sampling of the layers\n",
        "    for feature in reversed(features):\n",
        "      self.ups.append(nn.ConvTranspose2d(feature*2,feature,2,2))\n",
        "      self.ups.append(DoubleConv2D(feature*2,feature))\n",
        "\n",
        "    self.bottleneck = DoubleConv2D(features[-1],features[-1]*2)\n",
        "    self.final_conv = nn.Conv2d(features[0],out_channels,kernel_size = 1)\n",
        "  ##Forward\n",
        "  def forward(self,x):\n",
        "    skip_connections = []\n",
        "\n",
        "    for down in self.downs:\n",
        "      x = down(x)\n",
        "      skip_connections.append(x)\n",
        "      x = self.pool(x)\n",
        "\n",
        "    x = self.bottleneck(x)\n",
        "    skip_connections = skip_connections[::-1]\n",
        "\n",
        "    for idx in range(0,len(self.ups),2):\n",
        "      x = self.ups[idx](x)\n",
        "      skip_connection = skip_connections[idx//2]\n",
        "      if x.shape != skip_connection.shape:\n",
        "        x = TF.resize(x, size = skip_connection.shape[2:] )\n",
        "\n",
        "      concat_skip = torch.cat((skip_connection,x),dim = 1)\n",
        "      x = self.ups[idx +1](concat_skip)\n",
        "\n",
        "    return self.final_conv(x)\n"
      ],
      "metadata": {
        "id": "yU6FfgPh4EDZ"
      },
      "execution_count": 51,
      "outputs": []
    },
    {
      "cell_type": "markdown",
      "source": [
        "##Test"
      ],
      "metadata": {
        "id": "TUdx5MFyALP0"
      }
    },
    {
      "cell_type": "code",
      "source": [
        "def Test():\n",
        "  x = torch.randn((3,1,161,161))\n",
        "  model = UNET(in_channels=1,out_channels = 1)\n",
        "  preds = model(x)\n",
        "  print(x.shape)\n",
        "  assert preds.shape == x.shape"
      ],
      "metadata": {
        "id": "p7FwpmTFAMuT"
      },
      "execution_count": 54,
      "outputs": []
    },
    {
      "cell_type": "markdown",
      "source": [
        "##Execution"
      ],
      "metadata": {
        "id": "ZcknN7nrAjbE"
      }
    },
    {
      "cell_type": "code",
      "source": [
        "if __name__ == \"__main__\":\n",
        "  Test()"
      ],
      "metadata": {
        "colab": {
          "base_uri": "https://localhost:8080/"
        },
        "id": "hA-DNwYZAirD",
        "outputId": "185336c9-2eb7-4687-9a8c-49a4fea80d0b"
      },
      "execution_count": 55,
      "outputs": [
        {
          "output_type": "stream",
          "name": "stdout",
          "text": [
            "torch.Size([3, 1, 161, 161])\n"
          ]
        }
      ]
    }
  ]
}